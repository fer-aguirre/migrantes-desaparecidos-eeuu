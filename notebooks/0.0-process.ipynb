{
 "cells": [
  {
   "attachments": {},
   "cell_type": "markdown",
   "metadata": {},
   "source": [
    "### Imports"
   ]
  },
  {
   "cell_type": "code",
   "execution_count": 1,
   "metadata": {},
   "outputs": [],
   "source": [
    "import pdftotext"
   ]
  },
  {
   "attachments": {},
   "cell_type": "markdown",
   "metadata": {},
   "source": [
    "### Extract text from PDF"
   ]
  },
  {
   "cell_type": "code",
   "execution_count": 4,
   "metadata": {},
   "outputs": [
    {
     "data": {
      "text/plain": [
       "11988"
      ]
     },
     "execution_count": 4,
     "metadata": {},
     "output_type": "execute_result"
    }
   ],
   "source": [
    "# Function to extract text from PDF file\n",
    "def extract_text(path):\n",
    "    \n",
    "    # Read PDF file\n",
    "    with open(path, \"rb\") as f:\n",
    "        # Load PDF file\n",
    "        pdf = pdftotext.PDF(f, \"secret\")\n",
    "        pdf_text = \"\".join(pdf)\n",
    "    return pdf_text\n",
    "\n",
    "pdf_text = extract_text('../data/raw/CBP-2016-024895_Part1.1.pdf')\n",
    "len(pdf_text)"
   ]
  },
  {
   "cell_type": "code",
   "execution_count": 5,
   "metadata": {},
   "outputs": [
    {
     "data": {
      "text/plain": [
       "'2(b) (6), (b) (7)(C), (b) (7)(E)(b) (7)(E)(b) (6), (b) (7)(C), (b) (7)(E)(b) (7)(E)(b) (7)(E), (b) (6), (b) (7)(C)(b) (7)(E), (b) (6), (b) (7)(C)(b) (7)(E), (b) (6), (b) (7)(C)(b) (7)(E), (b) (6), (b) (7)(C)(b) (6), (b) (7)(C), (b) (7)(E)copies of the original message.contain sensitive security information that is controlled under the provisions of 49 CFR 1520.\\nIf you are not the intended recipient, please contact the sender by reply e-mail and destroy all\\ncopies of the original message.\\nFrom:                           (b) (6), (b) (7)(C)\\nSubject:            New Case 04/13/2015 near (b) (7)(E) AZ\\nDate:               Friday, August 21, 2015 3:42:35 AM\\nGood Morning,\\nBelow is the narrative concerning a deceased subject discovered by our Agents on April 13,\\n 2015, near (b) (7)(E) AZ on the Tohono O’Odham Indian Reservation. If possible, could we\\n get the case # at your earliest convenience? It would be much appreciated.\\nEXECUTIVE SUMMARY: A Casa Grande Station Border Patrol Agent (BPA) encountered\\n human skeletal remains near (b) (7)(E) AZ on the Tohono O’Odham Indian Reservation.\\n The Tohono O’Odham Police Department was notified.\\nNARRATIVE: On April 13, 2015, at approximately 1010 hours (MST), a Casa Grande Station\\n Border Patrol Agent (BPA) encountered human skeletal remains while on duty in his assigned\\n area. The remains are reportedly located                   (b) (7)(E)         AZ on the Tohono\\n O’Odham Indian Reservation.\\nTucson Sector radio contacted the Tohono O’Odham Police Department at approximately\\n 1014 to notify them of the discovery and the following coordinates were provided to the\\n location of the remains:\\n        (b) (7)(E)           .\\nAt this time only a human skull has been identified.\\nNo identification was located near the remains.\\nTOPD advised Tucson Sector radio that they would not be responding today, further stating\\n they will likely respond to the area on April 14, 2015.\\nTOPD case number issued is as follows: (b) (7)(E)\\nTOPD Sergeant                (b) (6), (b) (7)(C)         advised that he would be assigning the case to a\\n not yet determined Detective.\\nAll proper notifications and documentation were completed.\\n               (b) (7)(E)\\nNo further updates expected.\\nV/r,\\nJoint Task Force – West, Arizona\\nJoint Intelligence and Operations Center\\n From:                    (b) (6), (b) (7)(C)\\n Subject:         New Case 06/12/2014 (b) (7)(E) AZ\\n Date:            Wednesday, June 18, 2014 1:25:02 AM\\n Below is the narrative concerning a deceased subject discovered by our agents on June 12,\\n 2014. If possible, could we get a case # at your earliest convenience? It would be much\\n appreciated.\\n NARRATIVE:\\n On June 12, 2014, at approximately 6:20 AM, Supervisory Border Patrol Agent (SBPA) (b) (6),\\n                                                                                             (b) (7)\\n           discovered a deceased female subject near (b) (7)(E) Arizona just east of the\\n                             (b) (7)(E)                         SBPA (b) (6), secured the scene\\n                                                                      (b) (7)\\n and notified(b) (7)(E) SBPA (b) (6), (b) from the dayshift responded to the scene also.\\n                                    (7)(C)\\n The Pima County Sheriff’s Office (PCSO) was notified and PCSO Deputy         (b) (6), (b) (7)(C)\\n arrived on scene and assigned this incident case number (b) (7)(E) .\\n PCSO reports that there appears to be no sign of foul play and that the cause of death appears\\n to be exposure to the elements. It is estimated the death occurred approximately one month\\n ago.\\n No identification was found on the subject at the time. PCSO states a more further search for\\n identification will be conducted at their facility.\\n A courtesy call was placed to the Office of the Mexican Consulate by the Tucson Station\\n International Liaison Unit to advise them of the death and to the U.S. Fish and Wildlife Service\\n as the body appears to be on Buenos Aires National Wildlife Refuge property.\\n EAP was offered to all agents that responded to the scene.\\n All proper notifications were made.\\n GPS Coordinates:\\n(b) (7)(E)\\n V/r,\\n From:                        (b) (6), (b) (7)(C)\\n Subject:            New Case 06/28/2014 Nogales, AZ\\n Date:               Sunday, June 29, 2014 2:37:33 AM\\nBelow is the narrative concerning a deceased subject discovered by our agents on June 28, 2014. If\\n possible, could we get a case # at your earliest convenience? It would be much appreciated.\\nOn June 28, 2014 at approximately 12:00 p.m. Border Patrol Agent (BPA) (b) (6), (b) made contact\\n with a United States Citizen (USC) while performing his assigned duties in               (b) (7)(E) The\\n USC, later identified as (b) (6), (b) (7) , stated to BPA (b) (6), that he had seen some bones that he\\n believed to be human remains      (C)near the             (b) (7)(E)            Mr. (b) (6), took BPA (b) (6), to\\n the site where he found the bones and BPA (b) (6), confirmed that the remains       ( ) (7) were human.\\n                                                                                                       ( ) The\\n                                                                                                           (7)\\n remains consisted of a human skull and nothing       ( ) (7)\\n                                                           else. BPA (b) (6), took GPS coordinates of the\\n remains and notified (b) (7)(E) Radio Dispatch of the               ( ) findings\\n                                                                         (7)\\nand requested local authorities to respond.\\nSanta Cruz County Sheriff’s Department (SCCSO) was contacted and deputy (b) (6), (b) (7)(C)\\n arrived on scene at approximately 12:54 p.m. The scene was secured and turned over to SCCSO for\\n processing at 1:25 p.m. There was clothing found near where the remains were found, inside the\\n clothes a Mexican Crendential was found. All Border Patrol Agents departed the scene at\\n approximately 1:30 p.m.\\nSUBJECT INFORMATION: USC (Reporting party)\\n(b) (6), (b) (7)\\n       (C)\\nMEXICAN CREDENTIAL FOUND IN CLOTHING NEARBY\\n          (b) (6), (b) (7)(C)\\nSCCSO CASE NUMBER\\nCase (b) (7)(E)\\nLANDMARK\\n                           (b) (7)(E)                             .\\nGPS COORDINATES\\n(b) (7)(E)\\nFrom:                        (b) (6), (b) (7)(C)\\nSubject:            New Case 07/13/2014 Santa Rosa, AZ\\nDate:               Monday, July 14, 2014 3:08:11 AM\\n  Good Morning,\\n  Below is the narrative concerning a deceased subject discovered by our agents on July\\n   13, 2014.\\xa0\\xa0If possible, could we get a case # at your earliest convenience? I’m not sure\\n   if the procedure is the same since the child was identified.\\n  On July 13, 2014, at approximately 5:00 PM, Supervisory Border Patrol Agent (SBPA)\\n    (b) (6), (b) (7) and Acting Supervisory Border Patrol Agent (ASBPA) (b) (6), (b) (7)(C)\\n   encountered\\n          (C)       a subject who had succumbed to bee stings.\\n  Agents traveling north on                   (b) (7)(E)   near          (b) (7)(E)\\n   encountered one subject requesting assistance for a juvenile United States Citizen who\\n   was attacked by a swarm of bees in the desert. Agents located the subject, later\\n   identified as      (b) (6), (b) (7)(C) , determined he was not breathing and appeared to be\\n   suffering from multiple bee stings. Agents were unable to detect the subjects pulse. The\\n   agents on scene immediately started performing CPR on the (b) (6), .\\n                                                                    (b) (7)(C)\\n  At 5:\\nFrom:                             (b) (6), (b) (7)(C)\\nSubject:         New Case 07/28/2014 San Miguel, AZ\\nDate:            Tuesday, July 29, 2014 4:00:46 AM\\n  Good Morning,\\n  Below is the narrative concerning a deceased subject discovered by our agents on July\\n   28, 2014.\\xa0\\xa0If possible, could we get a case # at your earliest convenience? It would be\\n   much appreciated.\\n  On July 28, 2014, Supervisory Border Patrol Agent (b) (6), (b) (7)(C) , assigned to the\\n   Three\\n  Points Substation, discovered skeletal remains southwest of San Miguel, Arizona on the\\n  Tohono O’odham Nation. The bones were bleached and had been in the location for a\\n  significant amount of time. No identification was found near the remains.\\n  At approximately 1100 hours, the Tohono O’odham Police Department (TOPD) was\\n   notified and\\n  responded to the area. The remains were located approximately            (b) (7)(E)\\n  (b) (7)(E)\\n   (b) (7)(E) nd (b) (7)(E) north of the International Boundary. TOPD Officers (b) (6), (b)\\n                                                                                    (7)(C)\\n                                responded and took possession of the remains.\\n  TOPD Assigned Incident Case #                    (b) (7)(E) .\\n                     (b) (7)(E)\\n  Grid coordinates:\\nthe intended recipient(s) and may contain confidential and privileged information. Any\\nunauthorized review, use, disclosure, or distribution is prohibited. Parts of this document may\\ncontain sensitive security information that is controlled under the provisions of 49 CFR 1520.\\nIf you are not the intended recipient, please contact the sender by reply e-mail and destroy all\\ncopies of the original message.\\ncopies of the original message. From:                      (b) (6), (b) (7)(C)\\n Subject:            New Case 08/24/2014 - (b) (7)(E) AZ\\n Date:               Monday, August 25, 2014 12:54:55 AM\\nGood Morning,\\nBelow is the narrative concerning a deceased subject (Human Remains) discovered by our\\n Agents on August 24, 2014 near (b) (7)(E) AZ. If possible, could we get a case # at your\\n earliest convenience? It would be much appreciated.\\nThank you.\\nOn Sunday, August 24, 2014, at approximately 1120 hours (MST), BORSTAR Agents (b) (6), (b)\\n                and I were patrolling an area northeast of (b) (7)(E) Village, on the Tohono    (7)(C)\\nO’Odham Indian Reservation. (b) (7)(E)village is about (b) (7)(E) north of the International\\nBoundary fence between the United States and Mexico. Lately, the                   (b) (7)(E)\\n                               (b) (7)(E)                                 Agents (b) (6), (b) (7)\\n          had noticed foot sign in the desert area the previous day. Today, Agents     (C)(b) (6), (b)\\n          and I decided to patrol a well-travelled area, frequently used by illegal aliens, (7)(C)\\nand see if any new foot sign could be observed.\\nCanine (b) (6), (b) (7)(C), (b) (7) and I are a dual certified Search and Rescue (SAR) and Human\\nRemains Detection(E)   (HRD) team assigned to the Tucson Sector BORSTAR unit. Canine (b) (6), and I\\nwent along for a short hike with Agents (b) (6), (b) (7)(C) . After about one mile, (canine       ) (7)\\n  (b) (6), alerted to an odor he has been trained to detect. We traced the alert, and observed\\n  ( ) (7) (b) (6), indicating to the presence of a human skull.\\ncanine\\n           ( ) (7)\\nAt the scene, other identifiable human bones, personal effects and clothing of the deceased\\nwere strewn about. GPS coordinates                     (b) (7)(E)       ) were taken and Sector Dispatch\\n(b) (7)(E) was notified of the find.\\nThe Tohono O’Odham Police Department (TOPD) was notified and stated that they would be\\ndispatching personnel to the scene. The Tohono O’Odham Police Department assigned number (b)\\n            to the case. TOPD Ranger            (b) (6), (b) (7)(C) arrived and took custody of the     (7)\\nscene.\\n    (b) (7)(E)\\nCONFIDENTIALITY NOTICE: This e-mail, including any attachments, is for the sole use of\\nthe intended recipient(s) and may contain confidential and privileged information. Any\\nunauthorized review, use, disclosure, or distribution is prohibited. Parts of this document may\\ncontain sensitive security information that is controlled under the provisions of 49 CFR 1520.\\nIf you are not the intended recipient, please contact the sender by reply e-mail and destroy all\\ncopies of the original message.\\n'"
      ]
     },
     "execution_count": 5,
     "metadata": {},
     "output_type": "execute_result"
    }
   ],
   "source": [
    "pdf_text"
   ]
  },
  {
   "cell_type": "code",
   "execution_count": 6,
   "metadata": {},
   "outputs": [
    {
     "data": {
      "text/plain": [
       "11988"
      ]
     },
     "execution_count": 6,
     "metadata": {},
     "output_type": "execute_result"
    }
   ],
   "source": [
    "file = open(\"../data/processed/CBP-2026.txt\",\"w\")\n",
    "file.write(pdf_text)"
   ]
  }
 ],
 "metadata": {
  "kernelspec": {
   "display_name": "migrantes_desaparecidos_eeuu-0Fq2fihg",
   "language": "python",
   "name": "python3"
  },
  "language_info": {
   "codemirror_mode": {
    "name": "ipython",
    "version": 3
   },
   "file_extension": ".py",
   "mimetype": "text/x-python",
   "name": "python",
   "nbconvert_exporter": "python",
   "pygments_lexer": "ipython3",
   "version": "3.8.10"
  },
  "orig_nbformat": 4,
  "vscode": {
   "interpreter": {
    "hash": "72b4fade1c31b0f3dd89ca352e878c2560fa85ff5d5ced88a4f205ab10d97655"
   }
  }
 },
 "nbformat": 4,
 "nbformat_minor": 2
}
